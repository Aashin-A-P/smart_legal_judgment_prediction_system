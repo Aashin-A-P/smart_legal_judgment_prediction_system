{
 "cells": [
  {
   "cell_type": "code",
   "execution_count": null,
   "id": "50bd0c12",
   "metadata": {},
   "outputs": [],
   "source": []
  },
  {
   "cell_type": "code",
   "execution_count": 1,
   "id": "4c2a8fb1",
   "metadata": {},
   "outputs": [],
   "source": [
    "import pandas as pd"
   ]
  },
  {
   "cell_type": "code",
   "execution_count": 2,
   "id": "6ec7fe21",
   "metadata": {},
   "outputs": [],
   "source": [
    "df = pd.read_csv('batch_1_cases_with_facts.csv')"
   ]
  },
  {
   "cell_type": "code",
   "execution_count": 3,
   "id": "d257b956",
   "metadata": {},
   "outputs": [
    {
     "data": {
      "text/html": [
       "<div>\n",
       "<style scoped>\n",
       "    .dataframe tbody tr th:only-of-type {\n",
       "        vertical-align: middle;\n",
       "    }\n",
       "\n",
       "    .dataframe tbody tr th {\n",
       "        vertical-align: top;\n",
       "    }\n",
       "\n",
       "    .dataframe thead th {\n",
       "        text-align: right;\n",
       "    }\n",
       "</style>\n",
       "<table border=\"1\" class=\"dataframe\">\n",
       "  <thead>\n",
       "    <tr style=\"text-align: right;\">\n",
       "      <th></th>\n",
       "      <th>filename</th>\n",
       "      <th>label</th>\n",
       "      <th>model_used</th>\n",
       "      <th>raw_response</th>\n",
       "      <th>facts</th>\n",
       "    </tr>\n",
       "  </thead>\n",
       "  <tbody>\n",
       "    <tr>\n",
       "      <th>0</th>\n",
       "      <td>Uttarakhand_HC_2015_1701</td>\n",
       "      <td>1</td>\n",
       "      <td>x-ai/grok-4-fast:free</td>\n",
       "      <td>{\"facts\": [\"The applicant was found sitting in...</td>\n",
       "      <td>['The applicant was found sitting in a car.', ...</td>\n",
       "    </tr>\n",
       "    <tr>\n",
       "      <th>1</th>\n",
       "      <td>Bombay_HC_BomHC_2017_1744</td>\n",
       "      <td>1</td>\n",
       "      <td>x-ai/grok-4-fast:free</td>\n",
       "      <td>{\"facts\": [\\n  \"Petitioners sell tobacco under...</td>\n",
       "      <td>['Petitioners sell tobacco under brand names.'...</td>\n",
       "    </tr>\n",
       "    <tr>\n",
       "      <th>2</th>\n",
       "      <td>Bombay_HC_BomHC_1987_396</td>\n",
       "      <td>1</td>\n",
       "      <td>x-ai/grok-4-fast:free</td>\n",
       "      <td>{\"facts\": [\\n  \"Complainant married Nivrutti a...</td>\n",
       "      <td>['Complainant married Nivrutti about 7-8 years...</td>\n",
       "    </tr>\n",
       "    <tr>\n",
       "      <th>3</th>\n",
       "      <td>Kolkata_HC_1961_130</td>\n",
       "      <td>1</td>\n",
       "      <td>x-ai/grok-4-fast:free</td>\n",
       "      <td>{\"facts\": [\"Three appellants were detained by ...</td>\n",
       "      <td>['Three appellants were detained by the Commis...</td>\n",
       "    </tr>\n",
       "    <tr>\n",
       "      <th>4</th>\n",
       "      <td>Kerala_HC_2018_3700</td>\n",
       "      <td>0</td>\n",
       "      <td>x-ai/grok-4-fast:free</td>\n",
       "      <td>{\"facts\": [\\n  \"Petitioner's husband died on A...</td>\n",
       "      <td>[\"Petitioner's husband died on August 3, 2011,...</td>\n",
       "    </tr>\n",
       "  </tbody>\n",
       "</table>\n",
       "</div>"
      ],
      "text/plain": [
       "                    filename  label             model_used  \\\n",
       "0   Uttarakhand_HC_2015_1701      1  x-ai/grok-4-fast:free   \n",
       "1  Bombay_HC_BomHC_2017_1744      1  x-ai/grok-4-fast:free   \n",
       "2   Bombay_HC_BomHC_1987_396      1  x-ai/grok-4-fast:free   \n",
       "3        Kolkata_HC_1961_130      1  x-ai/grok-4-fast:free   \n",
       "4        Kerala_HC_2018_3700      0  x-ai/grok-4-fast:free   \n",
       "\n",
       "                                        raw_response  \\\n",
       "0  {\"facts\": [\"The applicant was found sitting in...   \n",
       "1  {\"facts\": [\\n  \"Petitioners sell tobacco under...   \n",
       "2  {\"facts\": [\\n  \"Complainant married Nivrutti a...   \n",
       "3  {\"facts\": [\"Three appellants were detained by ...   \n",
       "4  {\"facts\": [\\n  \"Petitioner's husband died on A...   \n",
       "\n",
       "                                               facts  \n",
       "0  ['The applicant was found sitting in a car.', ...  \n",
       "1  ['Petitioners sell tobacco under brand names.'...  \n",
       "2  ['Complainant married Nivrutti about 7-8 years...  \n",
       "3  ['Three appellants were detained by the Commis...  \n",
       "4  [\"Petitioner's husband died on August 3, 2011,...  "
      ]
     },
     "execution_count": 3,
     "metadata": {},
     "output_type": "execute_result"
    }
   ],
   "source": [
    "df.head()"
   ]
  },
  {
   "cell_type": "code",
   "execution_count": null,
   "id": "ce182343",
   "metadata": {},
   "outputs": [],
   "source": []
  }
 ],
 "metadata": {
  "kernelspec": {
   "display_name": "base",
   "language": "python",
   "name": "python3"
  },
  "language_info": {
   "codemirror_mode": {
    "name": "ipython",
    "version": 3
   },
   "file_extension": ".py",
   "mimetype": "text/x-python",
   "name": "python",
   "nbconvert_exporter": "python",
   "pygments_lexer": "ipython3",
   "version": "3.13.5"
  }
 },
 "nbformat": 4,
 "nbformat_minor": 5
}
