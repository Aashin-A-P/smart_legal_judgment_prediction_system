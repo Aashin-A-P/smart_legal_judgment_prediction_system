{
 "cells": [
  {
   "cell_type": "code",
   "execution_count": null,
   "id": "6b9b80a2",
   "metadata": {},
   "outputs": [],
   "source": []
  },
  {
   "cell_type": "code",
   "execution_count": 2,
   "id": "a1c75177",
   "metadata": {},
   "outputs": [
    {
     "name": "stderr",
     "output_type": "stream",
     "text": [
      "c:\\Users\\apaas\\anaconda3\\envs\\legal\\Lib\\site-packages\\tqdm\\auto.py:21: TqdmWarning: IProgress not found. Please update jupyter and ipywidgets. See https://ipywidgets.readthedocs.io/en/stable/user_install.html\n",
      "  from .autonotebook import tqdm as notebook_tqdm\n"
     ]
    },
    {
     "name": "stdout",
     "output_type": "stream",
     "text": [
      "🖥️ Using: cpu\n"
     ]
    }
   ],
   "source": [
    "# ====================================\n",
    "# 🧩 Graph-RAG setup for JudgEx\n",
    "# ====================================\n",
    "import pandas as pd\n",
    "import numpy as np\n",
    "import torch, gc\n",
    "import networkx as nx\n",
    "import matplotlib.pyplot as plt\n",
    "import seaborn as sns\n",
    "from tqdm import tqdm\n",
    "from sentence_transformers import SentenceTransformer, util\n",
    "\n",
    "gc.collect()\n",
    "torch.cuda.empty_cache()\n",
    "\n",
    "device = torch.device(\"cuda\" if torch.cuda.is_available() else \"cpu\")\n",
    "print(\"🖥️ Using:\", device)\n"
   ]
  },
  {
   "cell_type": "code",
   "execution_count": 3,
   "id": "8ae37f53",
   "metadata": {},
   "outputs": [
    {
     "name": "stdout",
     "output_type": "stream",
     "text": [
      "✅ Loaded graph.csv with shape: (12747, 5)\n"
     ]
    },
    {
     "data": {
      "text/html": [
       "<div>\n",
       "<style scoped>\n",
       "    .dataframe tbody tr th:only-of-type {\n",
       "        vertical-align: middle;\n",
       "    }\n",
       "\n",
       "    .dataframe tbody tr th {\n",
       "        vertical-align: top;\n",
       "    }\n",
       "\n",
       "    .dataframe thead th {\n",
       "        text-align: right;\n",
       "    }\n",
       "</style>\n",
       "<table border=\"1\" class=\"dataframe\">\n",
       "  <thead>\n",
       "    <tr style=\"text-align: right;\">\n",
       "      <th></th>\n",
       "      <th>filename</th>\n",
       "      <th>label</th>\n",
       "      <th>statutes</th>\n",
       "      <th>charges</th>\n",
       "      <th>facts</th>\n",
       "    </tr>\n",
       "  </thead>\n",
       "  <tbody>\n",
       "    <tr>\n",
       "      <th>0</th>\n",
       "      <td>Uttarakhand_HC_2015_1701</td>\n",
       "      <td>1</td>\n",
       "      <td>['Wild Life (Protection) Act, 1972']</td>\n",
       "      <td>['Illegal possession of animal bones']</td>\n",
       "      <td>['The applicant was found sitting in a car.', ...</td>\n",
       "    </tr>\n",
       "    <tr>\n",
       "      <th>1</th>\n",
       "      <td>Bombay_HC_BomHC_2017_1744</td>\n",
       "      <td>1</td>\n",
       "      <td>['Value Added Tax Act 2002 Sec 45-A', 'Value A...</td>\n",
       "      <td>['Non-payment of VAT on branded tobacco']</td>\n",
       "      <td>['Petitioners sell tobacco under brand names.'...</td>\n",
       "    </tr>\n",
       "    <tr>\n",
       "      <th>2</th>\n",
       "      <td>Bombay_HC_BomHC_1987_396</td>\n",
       "      <td>1</td>\n",
       "      <td>['IPC Sec 494', 'IPC Sec 109', 'IPC Sec 34', '...</td>\n",
       "      <td>['Bigamy', 'Abetment of Bigamy', 'Attempt to C...</td>\n",
       "      <td>['Complainant married Nivrutti about 7-8 years...</td>\n",
       "    </tr>\n",
       "  </tbody>\n",
       "</table>\n",
       "</div>"
      ],
      "text/plain": [
       "                    filename  label  \\\n",
       "0   Uttarakhand_HC_2015_1701      1   \n",
       "1  Bombay_HC_BomHC_2017_1744      1   \n",
       "2   Bombay_HC_BomHC_1987_396      1   \n",
       "\n",
       "                                            statutes  \\\n",
       "0               ['Wild Life (Protection) Act, 1972']   \n",
       "1  ['Value Added Tax Act 2002 Sec 45-A', 'Value A...   \n",
       "2  ['IPC Sec 494', 'IPC Sec 109', 'IPC Sec 34', '...   \n",
       "\n",
       "                                             charges  \\\n",
       "0             ['Illegal possession of animal bones']   \n",
       "1          ['Non-payment of VAT on branded tobacco']   \n",
       "2  ['Bigamy', 'Abetment of Bigamy', 'Attempt to C...   \n",
       "\n",
       "                                               facts  \n",
       "0  ['The applicant was found sitting in a car.', ...  \n",
       "1  ['Petitioners sell tobacco under brand names.'...  \n",
       "2  ['Complainant married Nivrutti about 7-8 years...  "
      ]
     },
     "metadata": {},
     "output_type": "display_data"
    }
   ],
   "source": [
    "# Replace the path below if graph.csv is elsewhere\n",
    "df = pd.read_csv(\"graph.csv\")\n",
    "print(\"✅ Loaded graph.csv with shape:\", df.shape)\n",
    "display(df.head(3))\n"
   ]
  },
  {
   "cell_type": "code",
   "execution_count": 4,
   "id": "a6a7e3bb",
   "metadata": {},
   "outputs": [
    {
     "name": "stderr",
     "output_type": "stream",
     "text": [
      "c:\\Users\\apaas\\anaconda3\\envs\\legal\\Lib\\site-packages\\huggingface_hub\\file_download.py:143: UserWarning: `huggingface_hub` cache-system uses symlinks by default to efficiently store duplicated files but your machine does not support them in C:\\Users\\apaas\\.cache\\huggingface\\hub\\models--sentence-transformers--all-mpnet-base-v2. Caching files will still work but in a degraded version that might require more space on your disk. This warning can be disabled by setting the `HF_HUB_DISABLE_SYMLINKS_WARNING` environment variable. For more details, see https://huggingface.co/docs/huggingface_hub/how-to-cache#limitations.\n",
      "To support symlinks on Windows, you either need to activate Developer Mode or to run Python as an administrator. In order to activate developer mode, see this article: https://docs.microsoft.com/en-us/windows/apps/get-started/enable-your-device-for-development\n",
      "  warnings.warn(message)\n"
     ]
    },
    {
     "name": "stdout",
     "output_type": "stream",
     "text": [
      "Encoding node texts ...\n"
     ]
    },
    {
     "name": "stderr",
     "output_type": "stream",
     "text": [
      "Batches: 100%|██████████| 1594/1594 [2:02:29<00:00,  4.61s/it]    \n",
      "Batches: 100%|██████████| 1594/1594 [34:08<00:00,  1.29s/it] \n",
      "Batches: 100%|██████████| 1594/1594 [15:13<00:00,  1.75it/s]\n"
     ]
    }
   ],
   "source": [
    "# Use a compact legal / general encoder for RTX 3050\n",
    "model = SentenceTransformer(\"all-mpnet-base-v2\", device=str(device))\n",
    "\n",
    "fact_texts    = df[\"facts\"].astype(str).tolist()\n",
    "statute_texts = df[\"statutes\"].astype(str).tolist()\n",
    "charge_texts  = df[\"charges\"].astype(str).tolist()\n",
    "\n",
    "print(\"Encoding node texts ...\")\n",
    "fact_embs    = model.encode(fact_texts, batch_size=8, convert_to_tensor=True, show_progress_bar=True)\n",
    "statute_embs = model.encode(statute_texts, batch_size=8, convert_to_tensor=True, show_progress_bar=True)\n",
    "charge_embs  = model.encode(charge_texts, batch_size=8, convert_to_tensor=True, show_progress_bar=True)\n"
   ]
  },
  {
   "cell_type": "code",
   "execution_count": 5,
   "id": "1c596e5a",
   "metadata": {},
   "outputs": [
    {
     "name": "stdout",
     "output_type": "stream",
     "text": [
      "✅ Graph built: 32459 nodes, 37491 edges\n"
     ]
    }
   ],
   "source": [
    "G = nx.Graph()\n",
    "\n",
    "for i, row in df.iterrows():\n",
    "    f = f\"fact_{i}\"\n",
    "    s = f\"statute_{row['statutes']}\"\n",
    "    c = f\"charge_{row['charges']}\"\n",
    "\n",
    "    G.add_node(f, type=\"fact\", text=row[\"facts\"])\n",
    "    G.add_node(s, type=\"statute\", text=str(row[\"statutes\"]))\n",
    "    G.add_node(c, type=\"charge\", text=str(row[\"charges\"]))\n",
    "\n",
    "    G.add_edge(f, s)\n",
    "    G.add_edge(s, c)\n",
    "    G.add_edge(f, c)\n",
    "\n",
    "print(f\"✅ Graph built: {G.number_of_nodes()} nodes, {G.number_of_edges()} edges\")\n"
   ]
  },
  {
   "cell_type": "code",
   "execution_count": 6,
   "id": "6a099826",
   "metadata": {},
   "outputs": [
    {
     "name": "stdout",
     "output_type": "stream",
     "text": [
      "\n",
      "🔎 Top-5 Similar Cases:\n",
      "\n"
     ]
    },
    {
     "ename": "TypeError",
     "evalue": "Cannot index by location index with a non-integer key",
     "output_type": "error",
     "traceback": [
      "\u001b[31m---------------------------------------------------------------------------\u001b[39m",
      "\u001b[31mTypeError\u001b[39m                                 Traceback (most recent call last)",
      "\u001b[36mCell\u001b[39m\u001b[36m \u001b[39m\u001b[32mIn[6]\u001b[39m\u001b[32m, line 9\u001b[39m\n\u001b[32m      7\u001b[39m \u001b[38;5;28mprint\u001b[39m(\u001b[33m\"\u001b[39m\u001b[38;5;130;01m\\n\u001b[39;00m\u001b[33m🔎 Top-5 Similar Cases:\u001b[39m\u001b[38;5;130;01m\\n\u001b[39;00m\u001b[33m\"\u001b[39m)\n\u001b[32m      8\u001b[39m \u001b[38;5;28;01mfor\u001b[39;00m idx, score \u001b[38;5;129;01min\u001b[39;00m \u001b[38;5;28mzip\u001b[39m(top_k.indices, top_k.values):\n\u001b[32m----> \u001b[39m\u001b[32m9\u001b[39m     row = \u001b[43mdf\u001b[49m\u001b[43m.\u001b[49m\u001b[43miloc\u001b[49m\u001b[43m[\u001b[49m\u001b[43midx\u001b[49m\u001b[43m]\u001b[49m\n\u001b[32m     10\u001b[39m     \u001b[38;5;28mprint\u001b[39m(\u001b[33mf\u001b[39m\u001b[33m\"\u001b[39m\u001b[33m→ Case: \u001b[39m\u001b[38;5;132;01m{\u001b[39;00mrow[\u001b[33m'\u001b[39m\u001b[33mfilename\u001b[39m\u001b[33m'\u001b[39m]\u001b[38;5;132;01m}\u001b[39;00m\u001b[33m | Similarity Score = \u001b[39m\u001b[38;5;132;01m{\u001b[39;00mscore\u001b[38;5;132;01m:\u001b[39;00m\u001b[33m.4f\u001b[39m\u001b[38;5;132;01m}\u001b[39;00m\u001b[33m\"\u001b[39m)\n\u001b[32m     11\u001b[39m     \u001b[38;5;28mprint\u001b[39m(\u001b[33mf\u001b[39m\u001b[33m\"\u001b[39m\u001b[33mFacts: \u001b[39m\u001b[38;5;132;01m{\u001b[39;00mrow[\u001b[33m'\u001b[39m\u001b[33mfacts\u001b[39m\u001b[33m'\u001b[39m][:\u001b[32m200\u001b[39m]\u001b[38;5;132;01m}\u001b[39;00m\u001b[33m...\u001b[39m\u001b[38;5;130;01m\\n\u001b[39;00m\u001b[33m\"\u001b[39m)\n",
      "\u001b[36mFile \u001b[39m\u001b[32mc:\\Users\\apaas\\anaconda3\\envs\\legal\\Lib\\site-packages\\pandas\\core\\indexing.py:1191\u001b[39m, in \u001b[36m_LocationIndexer.__getitem__\u001b[39m\u001b[34m(self, key)\u001b[39m\n\u001b[32m   1189\u001b[39m maybe_callable = com.apply_if_callable(key, \u001b[38;5;28mself\u001b[39m.obj)\n\u001b[32m   1190\u001b[39m maybe_callable = \u001b[38;5;28mself\u001b[39m._check_deprecated_callable_usage(key, maybe_callable)\n\u001b[32m-> \u001b[39m\u001b[32m1191\u001b[39m \u001b[38;5;28;01mreturn\u001b[39;00m \u001b[38;5;28;43mself\u001b[39;49m\u001b[43m.\u001b[49m\u001b[43m_getitem_axis\u001b[49m\u001b[43m(\u001b[49m\u001b[43mmaybe_callable\u001b[49m\u001b[43m,\u001b[49m\u001b[43m \u001b[49m\u001b[43maxis\u001b[49m\u001b[43m=\u001b[49m\u001b[43maxis\u001b[49m\u001b[43m)\u001b[49m\n",
      "\u001b[36mFile \u001b[39m\u001b[32mc:\\Users\\apaas\\anaconda3\\envs\\legal\\Lib\\site-packages\\pandas\\core\\indexing.py:1749\u001b[39m, in \u001b[36m_iLocIndexer._getitem_axis\u001b[39m\u001b[34m(self, key, axis)\u001b[39m\n\u001b[32m   1747\u001b[39m key = item_from_zerodim(key)\n\u001b[32m   1748\u001b[39m \u001b[38;5;28;01mif\u001b[39;00m \u001b[38;5;129;01mnot\u001b[39;00m is_integer(key):\n\u001b[32m-> \u001b[39m\u001b[32m1749\u001b[39m     \u001b[38;5;28;01mraise\u001b[39;00m \u001b[38;5;167;01mTypeError\u001b[39;00m(\u001b[33m\"\u001b[39m\u001b[33mCannot index by location index with a non-integer key\u001b[39m\u001b[33m\"\u001b[39m)\n\u001b[32m   1751\u001b[39m \u001b[38;5;66;03m# validate the location\u001b[39;00m\n\u001b[32m   1752\u001b[39m \u001b[38;5;28mself\u001b[39m._validate_integer(key, axis)\n",
      "\u001b[31mTypeError\u001b[39m: Cannot index by location index with a non-integer key"
     ]
    }
   ],
   "source": [
    "query = input(\"Enter case/fact description for retrieval:\\n> \")\n",
    "\n",
    "query_emb = model.encode(query, convert_to_tensor=True)\n",
    "cos_scores = util.cos_sim(query_emb, fact_embs)[0]\n",
    "top_k = torch.topk(cos_scores, k=5)\n",
    "\n",
    "print(\"\\n🔎 Top-5 Similar Cases:\\n\")\n",
    "for idx, score in zip(top_k.indices, top_k.values):\n",
    "    row = df.iloc[idx]\n",
    "    print(f\"→ Case: {row['filename']} | Similarity Score = {score:.4f}\")\n",
    "    print(f\"Facts: {row['facts'][:200]}...\\n\")\n"
   ]
  },
  {
   "cell_type": "code",
   "execution_count": null,
   "id": "1a7a7049",
   "metadata": {},
   "outputs": [],
   "source": [
    "deg_cent = nx.degree_centrality(G)\n",
    "between_cent = nx.betweenness_centrality(G)\n",
    "density = nx.density(G)\n",
    "\n",
    "print(f\"Graph Density = {density:.4f}\\nTop Degree Central Nodes:\")\n",
    "for n, v in sorted(deg_cent.items(), key=lambda x:x[1], reverse=True)[:5]:\n",
    "    print(f\"{n:25} → {v:.4f}\")\n"
   ]
  },
  {
   "cell_type": "code",
   "execution_count": null,
   "id": "998ab282",
   "metadata": {},
   "outputs": [],
   "source": [
    "plt.figure(figsize=(10,8))\n",
    "pos = nx.spring_layout(G, seed=42, k=0.5)\n",
    "color_map = ['#4c72b0' if G.nodes[n]['type']=='fact'\n",
    "             else '#55a868' if G.nodes[n]['type']=='statute'\n",
    "             else '#c44e52' for n in G.nodes]\n",
    "\n",
    "nx.draw(G, pos,\n",
    "        node_color=color_map,\n",
    "        node_size=60,\n",
    "        alpha=0.8,\n",
    "        with_labels=False)\n",
    "plt.title(\"Legal Graph — Facts ↔ Statutes ↔ Charges\", fontsize=13)\n",
    "plt.show()\n"
   ]
  },
  {
   "cell_type": "code",
   "execution_count": null,
   "id": "c7977880",
   "metadata": {},
   "outputs": [],
   "source": [
    "scores = cos_scores.cpu().numpy()\n",
    "sns.histplot(scores, bins=40, kde=True, color='teal')\n",
    "plt.title(\"Distribution of Cosine Similarity (Query vs Facts)\")\n",
    "plt.xlabel(\"Cosine Similarity\")\n",
    "plt.ylabel(\"Frequency\")\n",
    "plt.show()\n"
   ]
  },
  {
   "cell_type": "code",
   "execution_count": null,
   "id": "64db7237",
   "metadata": {},
   "outputs": [],
   "source": [
    "mean_sim = float(np.mean(scores))\n",
    "std_sim  = float(np.std(scores))\n",
    "top5_mean = float(top_k.values.mean())\n",
    "\n",
    "print(f\"📊 Mean Similarity: {mean_sim:.4f}\")\n",
    "print(f\"📈 Std Deviation: {std_sim:.4f}\")\n",
    "print(f\"🏆 Top-5 Mean Score: {top5_mean:.4f}\")\n"
   ]
  },
  {
   "cell_type": "code",
   "execution_count": null,
   "id": "9b6d95ec",
   "metadata": {},
   "outputs": [],
   "source": [
    "torch.save(fact_embs, \"fact_embeddings.pt\")\n",
    "nx.write_gpickle(G, \"legal_graph.gpickle\")\n",
    "print(\"✅ Saved graph and embeddings.\")\n"
   ]
  },
  {
   "cell_type": "code",
   "execution_count": null,
   "id": "2c0ed307",
   "metadata": {},
   "outputs": [],
   "source": []
  }
 ],
 "metadata": {
  "kernelspec": {
   "display_name": "legal",
   "language": "python",
   "name": "python3"
  },
  "language_info": {
   "codemirror_mode": {
    "name": "ipython",
    "version": 3
   },
   "file_extension": ".py",
   "mimetype": "text/x-python",
   "name": "python",
   "nbconvert_exporter": "python",
   "pygments_lexer": "ipython3",
   "version": "3.13.7"
  }
 },
 "nbformat": 4,
 "nbformat_minor": 5
}
