{
 "cells": [
  {
   "cell_type": "code",
   "execution_count": 1,
   "id": "cc7bd409",
   "metadata": {},
   "outputs": [
    {
     "name": "stdout",
     "output_type": "stream",
     "text": [
      "(1500, 6)\n"
     ]
    },
    {
     "data": {
      "text/html": [
       "<div>\n",
       "<style scoped>\n",
       "    .dataframe tbody tr th:only-of-type {\n",
       "        vertical-align: middle;\n",
       "    }\n",
       "\n",
       "    .dataframe tbody tr th {\n",
       "        vertical-align: top;\n",
       "    }\n",
       "\n",
       "    .dataframe thead th {\n",
       "        text-align: right;\n",
       "    }\n",
       "</style>\n",
       "<table border=\"1\" class=\"dataframe\">\n",
       "  <thead>\n",
       "    <tr style=\"text-align: right;\">\n",
       "      <th></th>\n",
       "      <th>filename</th>\n",
       "      <th>label</th>\n",
       "      <th>text</th>\n",
       "      <th>statutes</th>\n",
       "      <th>charges</th>\n",
       "      <th>facts</th>\n",
       "    </tr>\n",
       "  </thead>\n",
       "  <tbody>\n",
       "    <tr>\n",
       "      <th>0</th>\n",
       "      <td>Allahabad_HC_1991_315</td>\n",
       "      <td>0</td>\n",
       "      <td>P. Jeevan Reddy, J.This revision petition has ...</td>\n",
       "      <td>['IPC Sec 397', 'IPC Sec 302', 'IPC Sec 304-A'...</td>\n",
       "      <td>['Murder']</td>\n",
       "      <td>['The petitioner drove a truck that collided w...</td>\n",
       "    </tr>\n",
       "    <tr>\n",
       "      <th>1</th>\n",
       "      <td>Patna_HC_1997_103</td>\n",
       "      <td>1</td>\n",
       "      <td>S. Chaube, J.Both the appeals have been heard ...</td>\n",
       "      <td>['IPC Sec 302', 'IPC Sec 34']</td>\n",
       "      <td>['Murder']</td>\n",
       "      <td>['Rambriksh Sah was waylaid and stabbed on Jan...</td>\n",
       "    </tr>\n",
       "    <tr>\n",
       "      <th>2</th>\n",
       "      <td>karnataka_HC_2002_274</td>\n",
       "      <td>1</td>\n",
       "      <td>Kumar J.The accused being aggrieved by the jud...</td>\n",
       "      <td>['IPC Sec 302', 'IPC Sec 304']</td>\n",
       "      <td>['Murder']</td>\n",
       "      <td>['The accused paid PW1 money for a house plot ...</td>\n",
       "    </tr>\n",
       "    <tr>\n",
       "      <th>3</th>\n",
       "      <td>Bombay_HC_BomHC_2005_1049</td>\n",
       "      <td>1</td>\n",
       "      <td>C. Chavan, J.Being aggrieved by her conviction...</td>\n",
       "      <td>['IPC Sec 302', 'IPC Sec 304 Part-II', 'Eviden...</td>\n",
       "      <td>['Murder']</td>\n",
       "      <td>['Victim Lata and accused resided in the same ...</td>\n",
       "    </tr>\n",
       "    <tr>\n",
       "      <th>4</th>\n",
       "      <td>Gujarati_HC_2012_110</td>\n",
       "      <td>0</td>\n",
       "      <td>HONOURABLE MR.JUSTICE RAVI R.TRIPATHI and HONO...</td>\n",
       "      <td>['IPC Sec 302', 'IPC Sec 304(b)', 'IPC Sec 498...</td>\n",
       "      <td>['Murder', 'Culpable Homicide not amounting to...</td>\n",
       "      <td>['Hasumati married accused no.1 two and a half...</td>\n",
       "    </tr>\n",
       "  </tbody>\n",
       "</table>\n",
       "</div>"
      ],
      "text/plain": [
       "                    filename  label  \\\n",
       "0      Allahabad_HC_1991_315      0   \n",
       "1          Patna_HC_1997_103      1   \n",
       "2      karnataka_HC_2002_274      1   \n",
       "3  Bombay_HC_BomHC_2005_1049      1   \n",
       "4       Gujarati_HC_2012_110      0   \n",
       "\n",
       "                                                text  \\\n",
       "0  P. Jeevan Reddy, J.This revision petition has ...   \n",
       "1  S. Chaube, J.Both the appeals have been heard ...   \n",
       "2  Kumar J.The accused being aggrieved by the jud...   \n",
       "3  C. Chavan, J.Being aggrieved by her conviction...   \n",
       "4  HONOURABLE MR.JUSTICE RAVI R.TRIPATHI and HONO...   \n",
       "\n",
       "                                            statutes  \\\n",
       "0  ['IPC Sec 397', 'IPC Sec 302', 'IPC Sec 304-A'...   \n",
       "1                      ['IPC Sec 302', 'IPC Sec 34']   \n",
       "2                     ['IPC Sec 302', 'IPC Sec 304']   \n",
       "3  ['IPC Sec 302', 'IPC Sec 304 Part-II', 'Eviden...   \n",
       "4  ['IPC Sec 302', 'IPC Sec 304(b)', 'IPC Sec 498...   \n",
       "\n",
       "                                             charges  \\\n",
       "0                                         ['Murder']   \n",
       "1                                         ['Murder']   \n",
       "2                                         ['Murder']   \n",
       "3                                         ['Murder']   \n",
       "4  ['Murder', 'Culpable Homicide not amounting to...   \n",
       "\n",
       "                                               facts  \n",
       "0  ['The petitioner drove a truck that collided w...  \n",
       "1  ['Rambriksh Sah was waylaid and stabbed on Jan...  \n",
       "2  ['The accused paid PW1 money for a house plot ...  \n",
       "3  ['Victim Lata and accused resided in the same ...  \n",
       "4  ['Hasumati married accused no.1 two and a half...  "
      ]
     },
     "execution_count": 1,
     "metadata": {},
     "output_type": "execute_result"
    }
   ],
   "source": [
    "import pandas as pd\n",
    "\n",
    "df = pd.read_csv(\"data.csv\")\n",
    "print(df.shape)\n",
    "df.head()\n"
   ]
  },
  {
   "cell_type": "code",
   "execution_count": 2,
   "id": "98012193",
   "metadata": {},
   "outputs": [],
   "source": [
    "df['facts'] = df['facts'].astype(str)\n",
    "df = df.dropna(subset=['facts'])\n"
   ]
  },
  {
   "cell_type": "code",
   "execution_count": 3,
   "id": "eca1ecd2",
   "metadata": {},
   "outputs": [],
   "source": [
    "import re\n",
    "\n",
    "def clean_text(text):\n",
    "    text = re.sub(r'\\s+', ' ', text)\n",
    "    text = re.sub(r'[^a-zA-Z0-9\\s.,]', '', text)\n",
    "    return text.strip()\n",
    "\n",
    "df['facts'] = df['facts'].apply(clean_text)\n"
   ]
  },
  {
   "cell_type": "code",
   "execution_count": 5,
   "id": "71b28df6",
   "metadata": {},
   "outputs": [],
   "source": [
    "from sklearn.model_selection import train_test_split\n",
    "\n",
    "train_df, test_df = train_test_split(df, test_size=0.2, random_state=42)\n"
   ]
  },
  {
   "cell_type": "code",
   "execution_count": 6,
   "id": "512c41c3",
   "metadata": {},
   "outputs": [
    {
     "name": "stderr",
     "output_type": "stream",
     "text": [
      "c:\\Users\\apaas\\anaconda3\\envs\\legal\\Lib\\site-packages\\tqdm\\auto.py:21: TqdmWarning: IProgress not found. Please update jupyter and ipywidgets. See https://ipywidgets.readthedocs.io/en/stable/user_install.html\n",
      "  from .autonotebook import tqdm as notebook_tqdm\n"
     ]
    }
   ],
   "source": [
    "from transformers import AutoTokenizer\n",
    "\n",
    "tokenizer = AutoTokenizer.from_pretrained(\"law-ai/InLegalBERT\")\n",
    "\n",
    "def tokenize(batch):\n",
    "    return tokenizer(batch[\"facts\"], padding=\"max_length\", truncation=True, max_length=512)\n",
    "\n",
    "train_encodings = train_df['facts'].apply(lambda x: tokenizer(x, truncation=True, padding='max_length', max_length=512, return_tensors='pt'))\n"
   ]
  },
  {
   "cell_type": "code",
   "execution_count": null,
   "id": "80b6609a",
   "metadata": {},
   "outputs": [],
   "source": []
  }
 ],
 "metadata": {
  "kernelspec": {
   "display_name": "legal",
   "language": "python",
   "name": "python3"
  },
  "language_info": {
   "codemirror_mode": {
    "name": "ipython",
    "version": 3
   },
   "file_extension": ".py",
   "mimetype": "text/x-python",
   "name": "python",
   "nbconvert_exporter": "python",
   "pygments_lexer": "ipython3",
   "version": "3.13.7"
  }
 },
 "nbformat": 4,
 "nbformat_minor": 5
}
